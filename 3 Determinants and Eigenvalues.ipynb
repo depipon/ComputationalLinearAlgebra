{
  "nbformat": 4,
  "nbformat_minor": 0,
  "metadata": {
    "colab": {
      "provenance": []
    },
    "kernelspec": {
      "name": "python3",
      "display_name": "Python 3"
    },
    "language_info": {
      "name": "python"
    }
  },
  "cells": [
    {
      "cell_type": "markdown",
      "source": [
        "#**Determinants and Eigenvalues**"
      ],
      "metadata": {
        "id": "ejedbBpNS6z-"
      }
    },
    {
      "cell_type": "code",
      "execution_count": 1,
      "metadata": {
        "id": "sEnvBdnaSUZK"
      },
      "outputs": [],
      "source": [
        "import numpy as np\n",
        "from sympy import Matrix\n",
        "import pandas as pd\n",
        "import altair as alt\n",
        "from scipy.linalg import lu"
      ]
    },
    {
      "cell_type": "markdown",
      "source": [
        "###**Determinants**"
      ],
      "metadata": {
        "id": "yho1xlv6THQW"
      }
    },
    {
      "cell_type": "code",
      "source": [
        "A = np.array([[4,0],[0,3]])\n",
        "x = np.array([1,1])\n",
        "A @ x.T"
      ],
      "metadata": {
        "id": "GjbYrcqDSXXr",
        "colab": {
          "base_uri": "https://localhost:8080/"
        },
        "outputId": "d6166d8a-1548-4b83-f7b2-c28398d506f6"
      },
      "execution_count": 3,
      "outputs": [
        {
          "output_type": "execute_result",
          "data": {
            "text/plain": [
              "array([4, 3])"
            ]
          },
          "metadata": {},
          "execution_count": 3
        }
      ]
    },
    {
      "cell_type": "code",
      "source": [
        "B = np.array([[0.25,0.25],[-0.25,0.25]])\n",
        "np.linalg.inv(B)"
      ],
      "metadata": {
        "colab": {
          "base_uri": "https://localhost:8080/"
        },
        "id": "_eNXCy-lppg3",
        "outputId": "5ff4b869-9fd3-4bad-80c0-f060bd7b2d10"
      },
      "execution_count": 4,
      "outputs": [
        {
          "output_type": "execute_result",
          "data": {
            "text/plain": [
              "array([[ 2., -2.],\n",
              "       [ 2.,  2.]])"
            ]
          },
          "metadata": {},
          "execution_count": 4
        }
      ]
    },
    {
      "cell_type": "code",
      "source": [
        "T = np.array([[2,-2],[2,2]])\n",
        "T_i = np.linalg.inv(T)\n",
        "I = np.eye(2)\n",
        "T_i @ I"
      ],
      "metadata": {
        "colab": {
          "base_uri": "https://localhost:8080/"
        },
        "id": "zSQd_8U1qcdq",
        "outputId": "53d40c53-c1b3-4820-8958-0a1426351450"
      },
      "execution_count": 5,
      "outputs": [
        {
          "output_type": "execute_result",
          "data": {
            "text/plain": [
              "array([[ 0.25,  0.25],\n",
              "       [-0.25,  0.25]])"
            ]
          },
          "metadata": {},
          "execution_count": 5
        }
      ]
    },
    {
      "cell_type": "code",
      "source": [
        "a = np.array([[-3],[-1]])\n",
        "T_i @ a"
      ],
      "metadata": {
        "colab": {
          "base_uri": "https://localhost:8080/"
        },
        "id": "UxwadXCRrPlu",
        "outputId": "2101c0f8-53fc-44b6-d706-430886bca4b9"
      },
      "execution_count": 6,
      "outputs": [
        {
          "output_type": "execute_result",
          "data": {
            "text/plain": [
              "array([[-1. ],\n",
              "       [ 0.5]])"
            ]
          },
          "metadata": {},
          "execution_count": 6
        }
      ]
    },
    {
      "cell_type": "markdown",
      "source": [
        "###**Eigen things**"
      ],
      "metadata": {
        "id": "Ew33PemKt34M"
      }
    },
    {
      "cell_type": "code",
      "source": [
        "A = np.array([[4,2],[1,3]])\n",
        "value,vector = np.linalg.eig(A)\n",
        "print(value)\n",
        "print(vector)"
      ],
      "metadata": {
        "colab": {
          "base_uri": "https://localhost:8080/"
        },
        "id": "q09rL9R3t8Eh",
        "outputId": "698901b0-e636-47d9-b177-033545f54ed5"
      },
      "execution_count": 7,
      "outputs": [
        {
          "output_type": "stream",
          "name": "stdout",
          "text": [
            "[5. 2.]\n",
            "[[ 0.89442719 -0.70710678]\n",
            " [ 0.4472136   0.70710678]]\n"
          ]
        }
      ]
    },
    {
      "cell_type": "code",
      "source": [
        "B = np.array([[0,-1],[1,0]])\n",
        "value,vector = np.linalg.eig(B)\n",
        "print(value)\n",
        "print(vector)"
      ],
      "metadata": {
        "colab": {
          "base_uri": "https://localhost:8080/"
        },
        "id": "Lx0TXg7WwBdF",
        "outputId": "13240d14-62b0-42a0-a752-8a048ff75764"
      },
      "execution_count": 8,
      "outputs": [
        {
          "output_type": "stream",
          "name": "stdout",
          "text": [
            "[0.+1.j 0.-1.j]\n",
            "[[0.70710678+0.j         0.70710678-0.j        ]\n",
            " [0.        -0.70710678j 0.        +0.70710678j]]\n"
          ]
        }
      ]
    },
    {
      "cell_type": "markdown",
      "source": [
        "###**From Deisenroth**"
      ],
      "metadata": {
        "id": "k41qFbjnwwR-"
      }
    },
    {
      "cell_type": "code",
      "source": [
        "#4.1\n",
        "A = np.array([[1,3,5],[2,4,6],[0,2,4]])\n",
        "np.linalg.det(A)"
      ],
      "metadata": {
        "colab": {
          "base_uri": "https://localhost:8080/"
        },
        "id": "pxME0lFqxkhk",
        "outputId": "a8b08458-1303-4dab-f289-f121b1cab006"
      },
      "execution_count": 9,
      "outputs": [
        {
          "output_type": "execute_result",
          "data": {
            "text/plain": [
              "0.0"
            ]
          },
          "metadata": {},
          "execution_count": 9
        }
      ]
    },
    {
      "cell_type": "code",
      "source": [
        "#4.2\n",
        "B = np.array([[2,0,1,2,0],[2,-1,0,1,1],[0,1,2,1,2],[-2,0,2,-1,2],[2,0,0,1,1]])\n",
        "np.linalg.det(B)"
      ],
      "metadata": {
        "colab": {
          "base_uri": "https://localhost:8080/"
        },
        "id": "PHB2cbKnAcV9",
        "outputId": "5f5fcc69-a590-4986-85ec-6dc00a652abc"
      },
      "execution_count": 10,
      "outputs": [
        {
          "output_type": "execute_result",
          "data": {
            "text/plain": [
              "6.000000000000003"
            ]
          },
          "metadata": {},
          "execution_count": 10
        }
      ]
    }
  ]
}
