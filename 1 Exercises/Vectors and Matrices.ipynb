{
  "nbformat": 4,
  "nbformat_minor": 0,
  "metadata": {
    "colab": {
      "provenance": []
    },
    "kernelspec": {
      "name": "python3",
      "display_name": "Python 3"
    },
    "language_info": {
      "name": "python"
    }
  },
  "cells": [
    {
      "cell_type": "markdown",
      "source": [
        "#**Vectors and Matrices**"
      ],
      "metadata": {
        "id": "Ws-6R6r70Rj5"
      }
    },
    {
      "cell_type": "markdown",
      "source": [
        "###**Import libraries**"
      ],
      "metadata": {
        "id": "6gK9zWU774_H"
      }
    },
    {
      "cell_type": "code",
      "source": [
        "import numpy as np\n",
        "import pandas as pd\n",
        "import altair as alt"
      ],
      "metadata": {
        "id": "N_17AAoZ55lx"
      },
      "execution_count": 1,
      "outputs": []
    },
    {
      "cell_type": "markdown",
      "source": [
        "###**Vectors**"
      ],
      "metadata": {
        "id": "yj_M8Fy777dx"
      }
    },
    {
      "cell_type": "markdown",
      "source": [
        "Generate vector"
      ],
      "metadata": {
        "id": "bQPb_0Nw_nH8"
      }
    },
    {
      "cell_type": "code",
      "source": [
        "x = np.array([[1],[2],[3]])\n",
        "x.shape"
      ],
      "metadata": {
        "colab": {
          "base_uri": "https://localhost:8080/"
        },
        "id": "u8rMcKw38UT6",
        "outputId": "c56e1628-8c4b-467c-95b4-e164d0c9d6bc"
      },
      "execution_count": 3,
      "outputs": [
        {
          "output_type": "execute_result",
          "data": {
            "text/plain": [
              "(3, 1)"
            ]
          },
          "metadata": {},
          "execution_count": 3
        }
      ]
    },
    {
      "cell_type": "code",
      "source": [
        "print(f'A 3-dimensional vector:\\n{x}')"
      ],
      "metadata": {
        "colab": {
          "base_uri": "https://localhost:8080/"
        },
        "id": "yvtRR1KU8rJz",
        "outputId": "863fa50a-33d8-4203-f8c1-58bd0653d51d"
      },
      "execution_count": 4,
      "outputs": [
        {
          "output_type": "stream",
          "name": "stdout",
          "text": [
            "A 3-dimensional vector:\n",
            "[[1]\n",
            " [2]\n",
            " [3]]\n"
          ]
        }
      ]
    },
    {
      "cell_type": "markdown",
      "source": [
        "Adding vectors"
      ],
      "metadata": {
        "id": "mtMpM8gN_UjY"
      }
    },
    {
      "cell_type": "code",
      "source": [
        "y = x\n",
        "x + y"
      ],
      "metadata": {
        "colab": {
          "base_uri": "https://localhost:8080/"
        },
        "id": "K367yON6_X6z",
        "outputId": "28c98fa1-118c-4d80-de2f-2bab58dbb851"
      },
      "execution_count": 5,
      "outputs": [
        {
          "output_type": "execute_result",
          "data": {
            "text/plain": [
              "array([[2],\n",
              "       [4],\n",
              "       [6]])"
            ]
          },
          "metadata": {},
          "execution_count": 5
        }
      ]
    },
    {
      "cell_type": "code",
      "source": [
        "np.add(x,y)"
      ],
      "metadata": {
        "colab": {
          "base_uri": "https://localhost:8080/"
        },
        "id": "fJpa54KL_h90",
        "outputId": "96af1727-cc31-4df6-8e45-e8830213fd51"
      },
      "execution_count": 6,
      "outputs": [
        {
          "output_type": "execute_result",
          "data": {
            "text/plain": [
              "array([[2],\n",
              "       [4],\n",
              "       [6]])"
            ]
          },
          "metadata": {},
          "execution_count": 6
        }
      ]
    },
    {
      "cell_type": "markdown",
      "source": [
        "Scalar multiplication"
      ],
      "metadata": {
        "id": "FsDYWWlu_3lK"
      }
    },
    {
      "cell_type": "code",
      "source": [
        "a = 2\n",
        "a * x"
      ],
      "metadata": {
        "colab": {
          "base_uri": "https://localhost:8080/"
        },
        "id": "bShV3WLk_478",
        "outputId": "bafd8ee4-9fee-4ea6-ae4b-da1bf756593a"
      },
      "execution_count": 7,
      "outputs": [
        {
          "output_type": "execute_result",
          "data": {
            "text/plain": [
              "array([[2],\n",
              "       [4],\n",
              "       [6]])"
            ]
          },
          "metadata": {},
          "execution_count": 7
        }
      ]
    },
    {
      "cell_type": "markdown",
      "source": [
        "Linear combination"
      ],
      "metadata": {
        "id": "p1s7jrH8AiJw"
      }
    },
    {
      "cell_type": "code",
      "source": [
        "b = 3\n",
        "a*x + b*y"
      ],
      "metadata": {
        "colab": {
          "base_uri": "https://localhost:8080/"
        },
        "id": "SgJ3uw7CAjxQ",
        "outputId": "637c92ad-d6a6-43a0-b9d8-62e171aae19f"
      },
      "execution_count": 8,
      "outputs": [
        {
          "output_type": "execute_result",
          "data": {
            "text/plain": [
              "array([[ 5],\n",
              "       [10],\n",
              "       [15]])"
            ]
          },
          "metadata": {},
          "execution_count": 8
        }
      ]
    },
    {
      "cell_type": "markdown",
      "source": [
        "Dot product"
      ],
      "metadata": {
        "id": "0r-31EqvA7_6"
      }
    },
    {
      "cell_type": "code",
      "source": [
        "x.T @ y"
      ],
      "metadata": {
        "colab": {
          "base_uri": "https://localhost:8080/"
        },
        "id": "pPdbKLNyA9N9",
        "outputId": "bdfe19f0-18cd-49bd-ee2c-e9337f1d0184"
      },
      "execution_count": 9,
      "outputs": [
        {
          "output_type": "execute_result",
          "data": {
            "text/plain": [
              "array([[14]])"
            ]
          },
          "metadata": {},
          "execution_count": 9
        }
      ]
    },
    {
      "cell_type": "markdown",
      "source": [
        "Euclidian norm"
      ],
      "metadata": {
        "id": "P9Xd4viyLOQr"
      }
    },
    {
      "cell_type": "code",
      "source": [
        "np.linalg.norm(x,2)"
      ],
      "metadata": {
        "colab": {
          "base_uri": "https://localhost:8080/"
        },
        "id": "B9q1PYgWLQlf",
        "outputId": "e2e945cf-8aa9-45f8-e3c4-dce7b48950d8"
      },
      "execution_count": 11,
      "outputs": [
        {
          "output_type": "execute_result",
          "data": {
            "text/plain": [
              "3.7416573867739413"
            ]
          },
          "metadata": {},
          "execution_count": 11
        }
      ]
    },
    {
      "cell_type": "markdown",
      "source": [
        "Manhattan norm"
      ],
      "metadata": {
        "id": "Gk53P8n3LhTE"
      }
    },
    {
      "cell_type": "code",
      "source": [
        "np.linalg.norm(x,1)"
      ],
      "metadata": {
        "colab": {
          "base_uri": "https://localhost:8080/"
        },
        "id": "JWY5rKqNLiqO",
        "outputId": "9a06489b-e362-4a8a-f1f6-2443f4769821"
      },
      "execution_count": 12,
      "outputs": [
        {
          "output_type": "execute_result",
          "data": {
            "text/plain": [
              "6.0"
            ]
          },
          "metadata": {},
          "execution_count": 12
        }
      ]
    },
    {
      "cell_type": "markdown",
      "source": [
        "Max norm"
      ],
      "metadata": {
        "id": "DxY1xDo9L2hR"
      }
    },
    {
      "cell_type": "code",
      "source": [
        "np.linalg.norm(x,np.inf)"
      ],
      "metadata": {
        "colab": {
          "base_uri": "https://localhost:8080/"
        },
        "id": "6oNMpXURL5GR",
        "outputId": "569e77b1-f77f-41ae-fdb4-293b1a6b4878"
      },
      "execution_count": 13,
      "outputs": [
        {
          "output_type": "execute_result",
          "data": {
            "text/plain": [
              "3.0"
            ]
          },
          "metadata": {},
          "execution_count": 13
        }
      ]
    },
    {
      "cell_type": "markdown",
      "source": [
        "Distance"
      ],
      "metadata": {
        "id": "noq_drB-NiZx"
      }
    },
    {
      "cell_type": "code",
      "source": [
        "distance = np.linalg.norm(x-2*y, 2)\n",
        "print(f'L_2 distance : {distance}')"
      ],
      "metadata": {
        "colab": {
          "base_uri": "https://localhost:8080/"
        },
        "id": "tT01YsbMNkrT",
        "outputId": "c89152a2-0a3b-4d85-c5a5-25f328dbf37f"
      },
      "execution_count": 15,
      "outputs": [
        {
          "output_type": "stream",
          "name": "stdout",
          "text": [
            "L_2 distance : 3.7416573867739413\n"
          ]
        }
      ]
    },
    {
      "cell_type": "markdown",
      "source": [
        "Cosine"
      ],
      "metadata": {
        "id": "G2hPdEPbOi_y"
      }
    },
    {
      "cell_type": "code",
      "source": [
        "z  = np.array([[1],[1],[1]])\n",
        "cos_theta = (x.T @ z) / (np.linalg.norm(x,2) * np.linalg.norm(z,2))\n",
        "print(f'cos of the angle = {np.round(cos_theta, 3)}')"
      ],
      "metadata": {
        "colab": {
          "base_uri": "https://localhost:8080/"
        },
        "id": "JAPRhwReOnPJ",
        "outputId": "65184d66-324e-41a7-86d8-34baf8a081aa"
      },
      "execution_count": 16,
      "outputs": [
        {
          "output_type": "stream",
          "name": "stdout",
          "text": [
            "cos of the angle = [[0.926]]\n"
          ]
        }
      ]
    },
    {
      "cell_type": "code",
      "source": [
        "cos_inverse = np.arccos(cos_theta)\n",
        "print(f'angle in radiants = {np.round(cos_inverse, 3)}')"
      ],
      "metadata": {
        "colab": {
          "base_uri": "https://localhost:8080/"
        },
        "id": "qT56BExeOz_B",
        "outputId": "06a76c7c-01cc-4307-f810-c9204706422d"
      },
      "execution_count": 17,
      "outputs": [
        {
          "output_type": "stream",
          "name": "stdout",
          "text": [
            "angle in radiants = [[0.388]]\n"
          ]
        }
      ]
    },
    {
      "cell_type": "code",
      "source": [
        "degrees = cos_inverse * ((180)/np.pi)\n",
        "print(f'angle in degrees = {np.round(degrees, 3)}')"
      ],
      "metadata": {
        "colab": {
          "base_uri": "https://localhost:8080/"
        },
        "id": "KYQncT1oO5x6",
        "outputId": "aea84df0-4dc0-48c3-a245-0dfdba4654e4"
      },
      "execution_count": 18,
      "outputs": [
        {
          "output_type": "stream",
          "name": "stdout",
          "text": [
            "angle in degrees = [[22.208]]\n"
          ]
        }
      ]
    },
    {
      "cell_type": "markdown",
      "source": [
        "Orthogonal vectors"
      ],
      "metadata": {
        "id": "k-SsPYaqPT0F"
      }
    },
    {
      "cell_type": "code",
      "source": [
        "w = np.array([[1], [0]])\n",
        "v = np.array([[0], [1]])\n",
        "\n",
        "cos_theta = (w.T @ v) / (np.linalg.norm(w,2) * np.linalg.norm(v,2))\n",
        "print(f'cos of the angle = {np.round(cos_theta, 3)}')"
      ],
      "metadata": {
        "colab": {
          "base_uri": "https://localhost:8080/"
        },
        "id": "wY61B0mwPWT-",
        "outputId": "7ddf6260-a6a7-4e04-8e80-892340987b38"
      },
      "execution_count": 19,
      "outputs": [
        {
          "output_type": "stream",
          "name": "stdout",
          "text": [
            "cos of the angle = [[0.]]\n"
          ]
        }
      ]
    },
    {
      "cell_type": "code",
      "source": [
        "cos_inverse = np.arccos(cos_theta)\n",
        "degrees = cos_inverse * ((180)/np.pi)\n",
        "print(f'angle in radiants = {np.round(cos_inverse, 3)}\\nangle in degrees ={np.round(degrees, 3)} ')"
      ],
      "metadata": {
        "colab": {
          "base_uri": "https://localhost:8080/"
        },
        "id": "VQCJPVlePnd4",
        "outputId": "3cbdcf22-0b0d-449f-ad32-6f950aff4745"
      },
      "execution_count": 20,
      "outputs": [
        {
          "output_type": "stream",
          "name": "stdout",
          "text": [
            "angle in radiants = [[1.571]]\n",
            "angle in degrees =[[90.]] \n"
          ]
        }
      ]
    },
    {
      "cell_type": "markdown",
      "source": [
        "System of linear equations"
      ],
      "metadata": {
        "id": "yU0zRKN3PwCU"
      }
    },
    {
      "cell_type": "code",
      "source": [
        "df = pd.DataFrame({\"x1\": [0, 2], \"y1\":[8, 3], \"x2\": [0.5, 2], \"y2\": [0, 3]})\n",
        "equation1 = alt.Chart(df).mark_line().encode(x=\"x1\", y=\"y1\")\n",
        "equation2 = alt.Chart(df).mark_line(color=\"red\").encode(x=\"x2\", y=\"y2\")\n",
        "equation1 + equation2"
      ],
      "metadata": {
        "colab": {
          "base_uri": "https://localhost:8080/",
          "height": 368
        },
        "id": "e_M3L4iYQ2Xx",
        "outputId": "dfef9ee8-3881-47fa-c6e9-c4154b2008e0"
      },
      "execution_count": 21,
      "outputs": [
        {
          "output_type": "execute_result",
          "data": {
            "text/html": [
              "\n",
              "<div id=\"altair-viz-81165f5d9326436aa003367f37ed644c\"></div>\n",
              "<script type=\"text/javascript\">\n",
              "  var VEGA_DEBUG = (typeof VEGA_DEBUG == \"undefined\") ? {} : VEGA_DEBUG;\n",
              "  (function(spec, embedOpt){\n",
              "    let outputDiv = document.currentScript.previousElementSibling;\n",
              "    if (outputDiv.id !== \"altair-viz-81165f5d9326436aa003367f37ed644c\") {\n",
              "      outputDiv = document.getElementById(\"altair-viz-81165f5d9326436aa003367f37ed644c\");\n",
              "    }\n",
              "    const paths = {\n",
              "      \"vega\": \"https://cdn.jsdelivr.net/npm//vega@5?noext\",\n",
              "      \"vega-lib\": \"https://cdn.jsdelivr.net/npm//vega-lib?noext\",\n",
              "      \"vega-lite\": \"https://cdn.jsdelivr.net/npm//vega-lite@4.17.0?noext\",\n",
              "      \"vega-embed\": \"https://cdn.jsdelivr.net/npm//vega-embed@6?noext\",\n",
              "    };\n",
              "\n",
              "    function maybeLoadScript(lib, version) {\n",
              "      var key = `${lib.replace(\"-\", \"\")}_version`;\n",
              "      return (VEGA_DEBUG[key] == version) ?\n",
              "        Promise.resolve(paths[lib]) :\n",
              "        new Promise(function(resolve, reject) {\n",
              "          var s = document.createElement('script');\n",
              "          document.getElementsByTagName(\"head\")[0].appendChild(s);\n",
              "          s.async = true;\n",
              "          s.onload = () => {\n",
              "            VEGA_DEBUG[key] = version;\n",
              "            return resolve(paths[lib]);\n",
              "          };\n",
              "          s.onerror = () => reject(`Error loading script: ${paths[lib]}`);\n",
              "          s.src = paths[lib];\n",
              "        });\n",
              "    }\n",
              "\n",
              "    function showError(err) {\n",
              "      outputDiv.innerHTML = `<div class=\"error\" style=\"color:red;\">${err}</div>`;\n",
              "      throw err;\n",
              "    }\n",
              "\n",
              "    function displayChart(vegaEmbed) {\n",
              "      vegaEmbed(outputDiv, spec, embedOpt)\n",
              "        .catch(err => showError(`Javascript Error: ${err.message}<br>This usually means there's a typo in your chart specification. See the javascript console for the full traceback.`));\n",
              "    }\n",
              "\n",
              "    if(typeof define === \"function\" && define.amd) {\n",
              "      requirejs.config({paths});\n",
              "      require([\"vega-embed\"], displayChart, err => showError(`Error loading script: ${err.message}`));\n",
              "    } else {\n",
              "      maybeLoadScript(\"vega\", \"5\")\n",
              "        .then(() => maybeLoadScript(\"vega-lite\", \"4.17.0\"))\n",
              "        .then(() => maybeLoadScript(\"vega-embed\", \"6\"))\n",
              "        .catch(showError)\n",
              "        .then(() => displayChart(vegaEmbed));\n",
              "    }\n",
              "  })({\"config\": {\"view\": {\"continuousWidth\": 400, \"continuousHeight\": 300}}, \"layer\": [{\"mark\": \"line\", \"encoding\": {\"x\": {\"field\": \"x1\", \"type\": \"quantitative\"}, \"y\": {\"field\": \"y1\", \"type\": \"quantitative\"}}}, {\"mark\": {\"type\": \"line\", \"color\": \"red\"}, \"encoding\": {\"x\": {\"field\": \"x2\", \"type\": \"quantitative\"}, \"y\": {\"field\": \"y2\", \"type\": \"quantitative\"}}}], \"data\": {\"name\": \"data-57ffab6a26a928c2ff17e40b29b8a272\"}, \"$schema\": \"https://vega.github.io/schema/vega-lite/v4.17.0.json\", \"datasets\": {\"data-57ffab6a26a928c2ff17e40b29b8a272\": [{\"x1\": 0, \"y1\": 8, \"x2\": 0.5, \"y2\": 0}, {\"x1\": 2, \"y1\": 3, \"x2\": 2.0, \"y2\": 3}]}}, {\"mode\": \"vega-lite\"});\n",
              "</script>"
            ],
            "text/plain": [
              "alt.LayerChart(...)"
            ]
          },
          "metadata": {},
          "execution_count": 21
        }
      ]
    },
    {
      "cell_type": "markdown",
      "source": [
        "###**Matrices**"
      ],
      "metadata": {
        "id": "tsd6KFXMRyNs"
      }
    },
    {
      "cell_type": "markdown",
      "source": [
        "Create a matrix"
      ],
      "metadata": {
        "id": "4HNlCEUAR4E1"
      }
    },
    {
      "cell_type": "code",
      "source": [
        "A = np.array([[0,2,1],  # 1st row\n",
        "              [1,4,1], # 2nd row\n",
        "             [5,6,1]]) # 3rd row\n",
        "\n",
        "print(f'a 3x3 Matrix:\\n{A}')"
      ],
      "metadata": {
        "colab": {
          "base_uri": "https://localhost:8080/"
        },
        "id": "AP5HL5mGR0h-",
        "outputId": "360cf612-da76-4c18-a1fb-7a1d832111dc"
      },
      "execution_count": 32,
      "outputs": [
        {
          "output_type": "stream",
          "name": "stdout",
          "text": [
            "a 3x3 Matrix:\n",
            "[[0 2 1]\n",
            " [1 4 1]\n",
            " [5 6 1]]\n"
          ]
        }
      ]
    },
    {
      "cell_type": "markdown",
      "source": [
        "Matrix addition"
      ],
      "metadata": {
        "id": "gegsOEjeSsD0"
      }
    },
    {
      "cell_type": "code",
      "source": [
        "B = np.array([[3,1,0],\n",
        "              [-3,2,1],\n",
        "              [1,2,3]])\n",
        "A + B"
      ],
      "metadata": {
        "colab": {
          "base_uri": "https://localhost:8080/"
        },
        "id": "c46q2aWJShCc",
        "outputId": "485507af-4128-4995-849a-b7eedbceb5c1"
      },
      "execution_count": 33,
      "outputs": [
        {
          "output_type": "execute_result",
          "data": {
            "text/plain": [
              "array([[ 3,  3,  1],\n",
              "       [-2,  6,  2],\n",
              "       [ 6,  8,  4]])"
            ]
          },
          "metadata": {},
          "execution_count": 33
        }
      ]
    },
    {
      "cell_type": "code",
      "source": [
        "np.add(A, B)"
      ],
      "metadata": {
        "colab": {
          "base_uri": "https://localhost:8080/"
        },
        "id": "irWE6ta6Sm82",
        "outputId": "a73c9cb3-9edc-44b0-875b-4d075b692ef7"
      },
      "execution_count": 34,
      "outputs": [
        {
          "output_type": "execute_result",
          "data": {
            "text/plain": [
              "array([[ 3,  3,  1],\n",
              "       [-2,  6,  2],\n",
              "       [ 6,  8,  4]])"
            ]
          },
          "metadata": {},
          "execution_count": 34
        }
      ]
    },
    {
      "cell_type": "markdown",
      "source": [
        "Scalar multiplication"
      ],
      "metadata": {
        "id": "bApdBHI1SvSL"
      }
    },
    {
      "cell_type": "code",
      "source": [
        "a * A"
      ],
      "metadata": {
        "colab": {
          "base_uri": "https://localhost:8080/"
        },
        "id": "enB-oJBeSzcD",
        "outputId": "347e370d-2c23-4ac6-bffa-f26d9dee9a75"
      },
      "execution_count": 35,
      "outputs": [
        {
          "output_type": "execute_result",
          "data": {
            "text/plain": [
              "array([[ 0,  4,  2],\n",
              "       [ 2,  8,  2],\n",
              "       [10, 12,  2]])"
            ]
          },
          "metadata": {},
          "execution_count": 35
        }
      ]
    },
    {
      "cell_type": "code",
      "source": [
        "np.multiply(a,A)"
      ],
      "metadata": {
        "colab": {
          "base_uri": "https://localhost:8080/"
        },
        "id": "YU48SFdVS4ve",
        "outputId": "fe598827-4bee-4b62-f7d5-6f390e86f42a"
      },
      "execution_count": 36,
      "outputs": [
        {
          "output_type": "execute_result",
          "data": {
            "text/plain": [
              "array([[ 0,  4,  2],\n",
              "       [ 2,  8,  2],\n",
              "       [10, 12,  2]])"
            ]
          },
          "metadata": {},
          "execution_count": 36
        }
      ]
    },
    {
      "cell_type": "markdown",
      "source": [
        "Matrix-vector multiplication"
      ],
      "metadata": {
        "id": "c_ESUth7S84b"
      }
    },
    {
      "cell_type": "code",
      "source": [
        "A @ x"
      ],
      "metadata": {
        "colab": {
          "base_uri": "https://localhost:8080/"
        },
        "id": "03eCLkJiS-kC",
        "outputId": "25776ab3-6c95-4697-81bf-258c055c9034"
      },
      "execution_count": 37,
      "outputs": [
        {
          "output_type": "execute_result",
          "data": {
            "text/plain": [
              "array([[ 7],\n",
              "       [12],\n",
              "       [20]])"
            ]
          },
          "metadata": {},
          "execution_count": 37
        }
      ]
    },
    {
      "cell_type": "code",
      "source": [
        "np.dot(A,x)"
      ],
      "metadata": {
        "colab": {
          "base_uri": "https://localhost:8080/"
        },
        "id": "43rLXhXQUbEh",
        "outputId": "27aef03b-dc1e-4b82-ccfb-a940c38f503c"
      },
      "execution_count": 38,
      "outputs": [
        {
          "output_type": "execute_result",
          "data": {
            "text/plain": [
              "array([[ 7],\n",
              "       [12],\n",
              "       [20]])"
            ]
          },
          "metadata": {},
          "execution_count": 38
        }
      ]
    },
    {
      "cell_type": "markdown",
      "source": [
        "Matrix-matrix multiplication"
      ],
      "metadata": {
        "id": "VNMdpFeaUh_X"
      }
    },
    {
      "cell_type": "code",
      "source": [
        "A @ B"
      ],
      "metadata": {
        "colab": {
          "base_uri": "https://localhost:8080/"
        },
        "id": "NgIzThTKUlYg",
        "outputId": "0a4ae697-51d1-4e54-8fc9-ed75350b8ec2"
      },
      "execution_count": 39,
      "outputs": [
        {
          "output_type": "execute_result",
          "data": {
            "text/plain": [
              "array([[-5,  6,  5],\n",
              "       [-8, 11,  7],\n",
              "       [-2, 19,  9]])"
            ]
          },
          "metadata": {},
          "execution_count": 39
        }
      ]
    },
    {
      "cell_type": "code",
      "source": [
        "np.dot(A,B)"
      ],
      "metadata": {
        "colab": {
          "base_uri": "https://localhost:8080/"
        },
        "id": "VcnIHXFBUn2W",
        "outputId": "c97cc27e-eef8-4d28-d203-eb91043761d7"
      },
      "execution_count": 40,
      "outputs": [
        {
          "output_type": "execute_result",
          "data": {
            "text/plain": [
              "array([[-5,  6,  5],\n",
              "       [-8, 11,  7],\n",
              "       [-2, 19,  9]])"
            ]
          },
          "metadata": {},
          "execution_count": 40
        }
      ]
    },
    {
      "cell_type": "markdown",
      "source": [
        "Matrix inverse"
      ],
      "metadata": {
        "id": "_iTqjCwwXDj2"
      }
    },
    {
      "cell_type": "code",
      "source": [
        "A_i = np.linalg.inv(A)\n",
        "print(f'A inverse:\\n{A_i}')"
      ],
      "metadata": {
        "colab": {
          "base_uri": "https://localhost:8080/"
        },
        "id": "6FCC709cXFB-",
        "outputId": "8859fba6-5adf-4d9f-91c6-8737d7fd5728"
      },
      "execution_count": 41,
      "outputs": [
        {
          "output_type": "stream",
          "name": "stdout",
          "text": [
            "A inverse:\n",
            "[[ 0.33333333 -0.66666667  0.33333333]\n",
            " [-0.66666667  0.83333333 -0.16666667]\n",
            " [ 2.33333333 -1.66666667  0.33333333]]\n"
          ]
        }
      ]
    },
    {
      "cell_type": "code",
      "source": [
        "I = np.round(A_i @ A)\n",
        "print(f'A_i times A resulsts in I_3:\\n{I}')"
      ],
      "metadata": {
        "colab": {
          "base_uri": "https://localhost:8080/"
        },
        "id": "SWWmIprhXI4b",
        "outputId": "ceb55b24-de5c-4cac-9de2-d202ef0966af"
      },
      "execution_count": 42,
      "outputs": [
        {
          "output_type": "stream",
          "name": "stdout",
          "text": [
            "A_i times A resulsts in I_3:\n",
            "[[ 1. -0. -0.]\n",
            " [ 0.  1.  0.]\n",
            " [ 0.  0.  1.]]\n"
          ]
        }
      ]
    },
    {
      "cell_type": "markdown",
      "source": [
        "Matrix transpose"
      ],
      "metadata": {
        "id": "0eYCL503Xa3T"
      }
    },
    {
      "cell_type": "code",
      "source": [
        "A.T"
      ],
      "metadata": {
        "colab": {
          "base_uri": "https://localhost:8080/"
        },
        "id": "U0QtawR_Xcdn",
        "outputId": "d24a8279-b7c9-4dd2-a52d-48228a09136b"
      },
      "execution_count": 43,
      "outputs": [
        {
          "output_type": "execute_result",
          "data": {
            "text/plain": [
              "array([[0, 1, 5],\n",
              "       [2, 4, 6],\n",
              "       [1, 1, 1]])"
            ]
          },
          "metadata": {},
          "execution_count": 43
        }
      ]
    },
    {
      "cell_type": "markdown",
      "source": [
        "Hadamard product"
      ],
      "metadata": {
        "id": "C6uj5aefXqYH"
      }
    },
    {
      "cell_type": "code",
      "source": [
        "A * B"
      ],
      "metadata": {
        "colab": {
          "base_uri": "https://localhost:8080/"
        },
        "id": "ccYOPaa1XrzR",
        "outputId": "c259b03a-a495-4697-9361-05b7e2462e04"
      },
      "execution_count": 44,
      "outputs": [
        {
          "output_type": "execute_result",
          "data": {
            "text/plain": [
              "array([[ 0,  2,  0],\n",
              "       [-3,  8,  1],\n",
              "       [ 5, 12,  3]])"
            ]
          },
          "metadata": {},
          "execution_count": 44
        }
      ]
    },
    {
      "cell_type": "code",
      "source": [
        "np.multiply(A,B)"
      ],
      "metadata": {
        "colab": {
          "base_uri": "https://localhost:8080/"
        },
        "id": "modocJslXvRJ",
        "outputId": "b3215300-5048-48b3-c534-28c4c10d1232"
      },
      "execution_count": 45,
      "outputs": [
        {
          "output_type": "execute_result",
          "data": {
            "text/plain": [
              "array([[ 0,  2,  0],\n",
              "       [-3,  8,  1],\n",
              "       [ 5, 12,  3]])"
            ]
          },
          "metadata": {},
          "execution_count": 45
        }
      ]
    }
  ]
}
