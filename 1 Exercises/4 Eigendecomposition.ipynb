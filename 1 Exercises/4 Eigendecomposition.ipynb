{
  "nbformat": 4,
  "nbformat_minor": 0,
  "metadata": {
    "colab": {
      "provenance": []
    },
    "kernelspec": {
      "name": "python3",
      "display_name": "Python 3"
    },
    "language_info": {
      "name": "python"
    }
  },
  "cells": [
    {
      "cell_type": "markdown",
      "source": [
        "#**Eigendecomposition**"
      ],
      "metadata": {
        "id": "-9gqoUUK7c2I"
      }
    },
    {
      "cell_type": "code",
      "source": [
        "import numpy as np\n",
        "from sympy import Matrix\n",
        "import pandas as pd\n",
        "import altair as alt\n",
        "from scipy.linalg import lu"
      ],
      "metadata": {
        "id": "sKq_A1vZ76tk"
      },
      "execution_count": 24,
      "outputs": []
    },
    {
      "cell_type": "markdown",
      "source": [
        "###**Eigendecomposition**"
      ],
      "metadata": {
        "id": "-pFgOlCG7huy"
      }
    },
    {
      "cell_type": "code",
      "execution_count": 25,
      "metadata": {
        "colab": {
          "base_uri": "https://localhost:8080/"
        },
        "id": "pOAvbEV57Sh_",
        "outputId": "7c4092e0-ff21-4772-cebf-36a2d3fe92a6"
      },
      "outputs": [
        {
          "output_type": "stream",
          "name": "stdout",
          "text": [
            "Eigenvalues:\n",
            "[2. 8. 3.]\n",
            "\n",
            "Eigenvectors:\n",
            "[[ 0.          0.6882472   0.18291323]\n",
            " [ 0.          0.6882472  -0.12194215]\n",
            " [ 1.          0.22941573  0.97553722]]\n"
          ]
        }
      ],
      "source": [
        "A = np.array([[5,  3, 0],\n",
        "              [2,  6, 0],\n",
        "              [4,  -2, 2]])\n",
        "eigenvalues, eigenvectors = np.linalg.eig(A)\n",
        "print(\"Eigenvalues:\")\n",
        "print(eigenvalues)\n",
        "print(\"\\nEigenvectors:\")\n",
        "print(eigenvectors)"
      ]
    },
    {
      "cell_type": "code",
      "source": [
        "X = eigenvectors\n",
        "I = np.identity(3)\n",
        "L = I * eigenvalues\n",
        "print(f'AX = \\n{A@X}')\n",
        "print(f'XL = \\n{X@L}')"
      ],
      "metadata": {
        "colab": {
          "base_uri": "https://localhost:8080/"
        },
        "id": "7341Fj9G8g6k",
        "outputId": "034dd647-5646-45b8-dbf8-8b49a41ac21c"
      },
      "execution_count": 26,
      "outputs": [
        {
          "output_type": "stream",
          "name": "stdout",
          "text": [
            "AX = \n",
            "[[ 0.          5.50597761  0.54873968]\n",
            " [ 0.          5.50597761 -0.36582646]\n",
            " [ 2.          1.83532587  2.92661165]]\n",
            "XL = \n",
            "[[ 0.          5.50597761  0.54873968]\n",
            " [ 0.          5.50597761 -0.36582646]\n",
            " [ 2.          1.83532587  2.92661165]]\n"
          ]
        }
      ]
    },
    {
      "cell_type": "code",
      "source": [
        "print(f'Entry-wise comparison: {np.allclose(A @ X, X @ L)}')"
      ],
      "metadata": {
        "colab": {
          "base_uri": "https://localhost:8080/"
        },
        "id": "kSYgVUtV9CWo",
        "outputId": "2922d23b-9489-47aa-9519-76ad28de387e"
      },
      "execution_count": 27,
      "outputs": [
        {
          "output_type": "stream",
          "name": "stdout",
          "text": [
            "Entry-wise comparison: True\n"
          ]
        }
      ]
    },
    {
      "cell_type": "code",
      "source": [
        "A@X == X@L"
      ],
      "metadata": {
        "colab": {
          "base_uri": "https://localhost:8080/"
        },
        "id": "whvi9i5W9Hcd",
        "outputId": "34bba866-3395-4730-ea3c-12314b70c08a"
      },
      "execution_count": 28,
      "outputs": [
        {
          "output_type": "execute_result",
          "data": {
            "text/plain": [
              "array([[ True,  True, False],\n",
              "       [ True,  True, False],\n",
              "       [ True,  True,  True]])"
            ]
          },
          "metadata": {},
          "execution_count": 28
        }
      ]
    },
    {
      "cell_type": "code",
      "source": [
        "X_inv = np.linalg.inv(X)\n",
        "print(f'A = \\n{A}\\n')\n",
        "print(f'XAX_inv = \\n{X @ L @ X_inv}')"
      ],
      "metadata": {
        "colab": {
          "base_uri": "https://localhost:8080/"
        },
        "id": "ko2lNlWH9p1S",
        "outputId": "ef04f58a-0ec4-4932-d303-7e26661ad5b1"
      },
      "execution_count": 29,
      "outputs": [
        {
          "output_type": "stream",
          "name": "stdout",
          "text": [
            "A = \n",
            "[[ 5  3  0]\n",
            " [ 2  6  0]\n",
            " [ 4 -2  2]]\n",
            "\n",
            "XAX_inv = \n",
            "[[ 5.  3.  0.]\n",
            " [ 2.  6.  0.]\n",
            " [ 4. -2.  2.]]\n"
          ]
        }
      ]
    },
    {
      "cell_type": "markdown",
      "source": [
        "###**Singular Value Decomposition**"
      ],
      "metadata": {
        "id": "_QaczIwFWvhh"
      }
    },
    {
      "cell_type": "code",
      "source": [
        "# 2 x 3 matrix\n",
        "A_wide = np.array([[2, 1, 0],\n",
        "                   [-3, 0, 1]])\n",
        "\n",
        "# 3 x 2 matrix\n",
        "A_tall = np.array([[2, 1],\n",
        "                   [-3, 0],\n",
        "                   [0, 2]])\n",
        "\n",
        "# 3 x 3 matrix: col 3 equals 2 x col 1\n",
        "A_square = np.array([[2, 1, 4],\n",
        "                     [-3, 0, -6],\n",
        "                     [1, 2, 2]])\n",
        "\n",
        "U1, S1, V_T1 = np.linalg.svd(A_wide)\n",
        "U2, S2, V_T2 = np.linalg.svd(A_tall)\n",
        "U3, S3, V_T3 = np.linalg.svd(A_square)\n",
        "\n",
        "print(f'Left orthogonal matrix wide A:\\n{np.round(U1, 2)}\\n')\n",
        "print(f'Singular values diagonal matrix wide A:\\n{np.round(S1, 2)}\\n')\n",
        "print(f'Right orthogonal matrix wide A:\\n{np.round(V_T1, 2)}')"
      ],
      "metadata": {
        "colab": {
          "base_uri": "https://localhost:8080/"
        },
        "id": "SkN5zAFmWv7T",
        "outputId": "c517dfe7-1b6d-4887-c1f2-22c9a7531639"
      },
      "execution_count": 30,
      "outputs": [
        {
          "output_type": "stream",
          "name": "stdout",
          "text": [
            "Left orthogonal matrix wide A:\n",
            "[[-0.55  0.83]\n",
            " [ 0.83  0.55]]\n",
            "\n",
            "Singular values diagonal matrix wide A:\n",
            "[3.74 1.  ]\n",
            "\n",
            "Right orthogonal matrix wide A:\n",
            "[[-0.96 -0.15  0.22]\n",
            " [-0.    0.83  0.55]\n",
            " [ 0.27 -0.53  0.8 ]]\n"
          ]
        }
      ]
    },
    {
      "cell_type": "code",
      "source": [
        "print(f'Left orthogonal matrix for tall A:\\n{np.round(U2, 2)}\\n')\n",
        "print(f'Singular values diagonal matrix for tall A:\\n{np.round(S2, 2)}\\n')\n",
        "print(f'Right orthogonal matrix for tall A:\\n{np.round(V_T2, 2)}')"
      ],
      "metadata": {
        "colab": {
          "base_uri": "https://localhost:8080/"
        },
        "id": "NXjgx78LXBpi",
        "outputId": "714bc171-d78c-4d26-c789-c17ee520a61f"
      },
      "execution_count": 31,
      "outputs": [
        {
          "output_type": "stream",
          "name": "stdout",
          "text": [
            "Left orthogonal matrix for tall A:\n",
            "[[-0.59 -0.24 -0.77]\n",
            " [ 0.8  -0.32 -0.51]\n",
            " [-0.13 -0.91  0.38]]\n",
            "\n",
            "Singular values diagonal matrix for tall A:\n",
            "[3.67 2.13]\n",
            "\n",
            "Right orthogonal matrix for tall A:\n",
            "[[-0.97 -0.23]\n",
            " [ 0.23 -0.97]]\n"
          ]
        }
      ]
    },
    {
      "cell_type": "code",
      "source": [
        "print(f'Left orthogonal matrix for square A:\\n{np.round(U3, 2)}\\n')\n",
        "print(f'Singular values diagonal matrix for square A:\\n{np.round(S3, 2)}\\n')\n",
        "print(f'Right orthogonal matrix for square A:\\n{np.round(V_T3, 2)}')"
      ],
      "metadata": {
        "colab": {
          "base_uri": "https://localhost:8080/"
        },
        "id": "r4DEUoshb9_i",
        "outputId": "08fb1817-c2a6-46f3-b3eb-f6b1ba8346b6"
      },
      "execution_count": 32,
      "outputs": [
        {
          "output_type": "stream",
          "name": "stdout",
          "text": [
            "Left orthogonal matrix for square A:\n",
            "[[-0.54 -0.2  -0.82]\n",
            " [ 0.79 -0.46 -0.41]\n",
            " [-0.29 -0.86  0.41]]\n",
            "\n",
            "Singular values diagonal matrix for square A:\n",
            "[8.44 1.95 0.  ]\n",
            "\n",
            "Right orthogonal matrix for square A:\n",
            "[[-0.44 -0.13 -0.89]\n",
            " [ 0.06 -0.99  0.12]\n",
            " [ 0.89  0.   -0.45]]\n"
          ]
        }
      ]
    },
    {
      "cell_type": "code",
      "source": [
        "Z = np.array([[1, 2, 3],\n",
        "             [3, 6, 9],\n",
        "             [4, 8, 12],\n",
        "             [5, 10, 15]])\n",
        "U4, S4, V_T4 = np.linalg.svd(Z)\n",
        "print(f'Left orthogonal matrix for square A:\\n{np.round(U4, 2)}\\n')\n",
        "print(f'Singular values diagonal matrix for square A:\\n{np.round(S4, 2)}\\n')\n",
        "print(f'Right orthogonal matrix for square A:\\n{np.round(V_T4, 2)}')"
      ],
      "metadata": {
        "colab": {
          "base_uri": "https://localhost:8080/"
        },
        "id": "lUWapy5ahz33",
        "outputId": "e6738254-23f3-4c0c-ba81-11785f3af076"
      },
      "execution_count": 33,
      "outputs": [
        {
          "output_type": "stream",
          "name": "stdout",
          "text": [
            "Left orthogonal matrix for square A:\n",
            "[[-0.14 -0.56 -0.42 -0.7 ]\n",
            " [-0.42 -0.21  0.85 -0.26]\n",
            " [-0.56  0.72 -0.21 -0.34]\n",
            " [-0.7  -0.34 -0.26  0.57]]\n",
            "\n",
            "Singular values diagonal matrix for square A:\n",
            "[26.72  0.    0.  ]\n",
            "\n",
            "Right orthogonal matrix for square A:\n",
            "[[-0.27 -0.53 -0.8 ]\n",
            " [ 0.   -0.83  0.55]\n",
            " [ 0.96 -0.15 -0.22]]\n"
          ]
        }
      ]
    },
    {
      "cell_type": "markdown",
      "source": [
        "###**From Deisenroth**"
      ],
      "metadata": {
        "id": "YrMMt9pkjjey"
      }
    },
    {
      "cell_type": "code",
      "source": [
        "#4.7\n",
        "A1 = np.array([[0,1],\n",
        "               [-8,4]])\n",
        "eigenval, eigenvec = np.linalg.eig(A1)\n",
        "P_inv = np.linalg.inv(eigenvec)\n",
        "print(P_inv)"
      ],
      "metadata": {
        "colab": {
          "base_uri": "https://localhost:8080/"
        },
        "id": "GQ7Zs_OTjpJ1",
        "outputId": "13cc6251-5d47-4461-f3d1-3ffe50979241"
      },
      "execution_count": 34,
      "outputs": [
        {
          "output_type": "stream",
          "name": "stdout",
          "text": [
            "[[-1.24900090e-16+2.12132034j  5.30330086e-01-0.53033009j]\n",
            " [ 1.24900090e-16-2.12132034j  5.30330086e-01+0.53033009j]]\n"
          ]
        }
      ]
    },
    {
      "cell_type": "code",
      "source": [
        "#4.7\n",
        "A2 = np.array([[1,1,1],\n",
        "               [1,1,1],\n",
        "               [1,1,1]])\n",
        "eigenval, eigenvec = np.linalg.eig(A2)\n",
        "P_inv = np.linalg.inv(eigenvec)\n",
        "print(P_inv)"
      ],
      "metadata": {
        "colab": {
          "base_uri": "https://localhost:8080/"
        },
        "id": "skxL0BfCB2V7",
        "outputId": "6298c152-4863-4c20-807c-92b7335849b2"
      },
      "execution_count": 35,
      "outputs": [
        {
          "output_type": "stream",
          "name": "stdout",
          "text": [
            "[[-8.16496581e-01  4.08248290e-01  4.08248290e-01]\n",
            " [ 5.77350269e-01  5.77350269e-01  5.77350269e-01]\n",
            " [-3.92523115e-17 -7.07106781e-01  7.07106781e-01]]\n"
          ]
        }
      ]
    },
    {
      "cell_type": "code",
      "source": [
        "#4.7\n",
        "A3 = np.array([[5,4,2,1],\n",
        "               [0,1,-1,-1],\n",
        "               [-1,-1,3,0],\n",
        "               [1,1,-1,2]])\n",
        "eigenval, eigenvec = np.linalg.eig(A3)\n",
        "P_inv = np.linalg.inv(eigenvec)\n",
        "print(P_inv)"
      ],
      "metadata": {
        "id": "010edyO6Cz8t",
        "colab": {
          "base_uri": "https://localhost:8080/"
        },
        "outputId": "7c4b1248-fd19-4bfc-e2a7-716c29d9311e"
      },
      "execution_count": 39,
      "outputs": [
        {
          "output_type": "stream",
          "name": "stdout",
          "text": [
            "[[-1.80143985e+15 -1.80143985e+15 -1.80143985e+15 -1.40000000e+00]\n",
            " [-1.80143985e+15 -1.80143985e+15 -1.80143985e+15 -1.40000000e+00]\n",
            " [ 0.00000000e+00  1.41421356e+00  1.41421356e+00  1.41421356e+00]\n",
            " [-0.00000000e+00  1.29808447e-15 -1.73205081e+00 -1.73205081e+00]]\n"
          ]
        }
      ]
    },
    {
      "cell_type": "code",
      "source": [
        "#4.8\n",
        "U = np.array([[1/(2**(1/2)),-1/(2**(1/2))],[1/(2**(1/2)),1/(2**(1/2))]])\n",
        "Sigma = np.array([[5,0,0],[0,3,0]])\n",
        "V_T = np.array([[1/(2**(1/2)),1/(2)**(1/2),0],[-1/(3*(2)**(1/2)),1/(3*(2**(1/2))),-2/3],[-2/3,2/3,1/3]])\n",
        "A = U@Sigma@V_T\n",
        "print(A)"
      ],
      "metadata": {
        "colab": {
          "base_uri": "https://localhost:8080/"
        },
        "id": "Glb9fT6UIi8s",
        "outputId": "22ce1b4f-de3b-4e69-aba8-198b386e63c7"
      },
      "execution_count": 59,
      "outputs": [
        {
          "output_type": "stream",
          "name": "stdout",
          "text": [
            "[[ 3.          2.          1.41421356]\n",
            " [ 2.          3.         -1.41421356]]\n"
          ]
        }
      ]
    },
    {
      "cell_type": "code",
      "source": [
        "#4.9\n",
        "U = np.array([[1,0],[0,1]])\n",
        "Sigma = np.array([[2*(2**(1/2)),0],[0,2**(1/2)]])\n",
        "V_T = np.array([[1/(2)**(1/2),1/(2)**(1/2)],[-1/(2)**(1/2),1/(2)**(1/2)]])\n",
        "A = U@Sigma@V_T\n",
        "print(A)"
      ],
      "metadata": {
        "colab": {
          "base_uri": "https://localhost:8080/"
        },
        "id": "q3pndSeCn5x5",
        "outputId": "79c5203f-45b7-482e-fdab-4a591afda738"
      },
      "execution_count": 56,
      "outputs": [
        {
          "output_type": "stream",
          "name": "stdout",
          "text": [
            "[[ 2.  2.]\n",
            " [-1.  1.]]\n"
          ]
        }
      ]
    }
  ]
}
