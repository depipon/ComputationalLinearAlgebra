{
  "nbformat": 4,
  "nbformat_minor": 0,
  "metadata": {
    "colab": {
      "provenance": []
    },
    "kernelspec": {
      "name": "python3",
      "display_name": "Python 3"
    },
    "language_info": {
      "name": "python"
    }
  },
  "cells": [
    {
      "cell_type": "code",
      "source": [
        "import numpy as np"
      ],
      "metadata": {
        "id": "K2vLiACY1CaU"
      },
      "execution_count": 1,
      "outputs": []
    },
    {
      "cell_type": "markdown",
      "source": [
        "##Problem 5"
      ],
      "metadata": {
        "id": "ie5NCMFC0rEq"
      }
    },
    {
      "cell_type": "markdown",
      "source": [
        "###5.1"
      ],
      "metadata": {
        "id": "lZ5PTILpGtYf"
      }
    },
    {
      "cell_type": "code",
      "execution_count": 2,
      "metadata": {
        "colab": {
          "base_uri": "https://localhost:8080/"
        },
        "id": "alt6GoMD0f5c",
        "outputId": "bb0d6570-a482-45ae-d359-ff37042adf62"
      },
      "outputs": [
        {
          "output_type": "stream",
          "name": "stdout",
          "text": [
            "U= [[-0.70710678 -0.70710678]\n",
            " [-0.70710678  0.70710678]]\n",
            "S= [4.89897949 2.        ]\n",
            "V_t= [[-5.77350269e-01 -5.77350269e-01 -5.77350269e-01]\n",
            " [ 7.07106781e-01  1.65486686e-16 -7.07106781e-01]\n",
            " [ 4.08248290e-01 -8.16496581e-01  4.08248290e-01]]\n"
          ]
        }
      ],
      "source": [
        "A = np.array([[1,2,3],[3,2,1]])\n",
        "U, S, V_t = np.linalg.svd(A)\n",
        "print(\"U=\",U)\n",
        "print(\"S=\",S)\n",
        "print(\"V_t=\",V_t)"
      ]
    },
    {
      "cell_type": "code",
      "source": [
        "#Notice that -1 can still be extracted from U and V.t\n",
        "print(\"U=\",-U)\n",
        "print(\"S=\",S)\n",
        "print(\"V_t=\",-V_t)"
      ],
      "metadata": {
        "colab": {
          "base_uri": "https://localhost:8080/"
        },
        "id": "h8LMz8S1SAm8",
        "outputId": "16ea7359-51ad-4bff-c3cf-bfe0dededadf"
      },
      "execution_count": 3,
      "outputs": [
        {
          "output_type": "stream",
          "name": "stdout",
          "text": [
            "U= [[ 0.70710678  0.70710678]\n",
            " [ 0.70710678 -0.70710678]]\n",
            "S= [4.89897949 2.        ]\n",
            "V_t= [[ 5.77350269e-01  5.77350269e-01  5.77350269e-01]\n",
            " [-7.07106781e-01 -1.65486686e-16  7.07106781e-01]\n",
            " [-4.08248290e-01  8.16496581e-01 -4.08248290e-01]]\n"
          ]
        }
      ]
    },
    {
      "cell_type": "code",
      "source": [
        "S = np.hstack((np.diag(S),np.array([[0],[0]])))\n",
        "U@S@V_t"
      ],
      "metadata": {
        "colab": {
          "base_uri": "https://localhost:8080/"
        },
        "id": "ebClEbByd9RD",
        "outputId": "42585606-af64-4713-f982-ab83dcd45b0c"
      },
      "execution_count": 4,
      "outputs": [
        {
          "output_type": "execute_result",
          "data": {
            "text/plain": [
              "array([[1., 2., 3.],\n",
              "       [3., 2., 1.]])"
            ]
          },
          "metadata": {},
          "execution_count": 4
        }
      ]
    },
    {
      "cell_type": "code",
      "source": [
        "-U@S@-V_t"
      ],
      "metadata": {
        "colab": {
          "base_uri": "https://localhost:8080/"
        },
        "id": "SW5kZ-IweRjY",
        "outputId": "293f6001-96f1-4eb0-8df8-7d4ec106ea50"
      },
      "execution_count": 5,
      "outputs": [
        {
          "output_type": "execute_result",
          "data": {
            "text/plain": [
              "array([[1., 2., 3.],\n",
              "       [3., 2., 1.]])"
            ]
          },
          "metadata": {},
          "execution_count": 5
        }
      ]
    },
    {
      "cell_type": "markdown",
      "source": [
        "###5.2"
      ],
      "metadata": {
        "id": "oT3FY0zmbyrz"
      }
    },
    {
      "cell_type": "code",
      "source": [
        "A = np.array([[1,2,3],[3,2,1]])\n",
        "A_t = np.transpose(A)\n",
        "Q, R = np.linalg.qr(A_t)\n",
        "print(\"Q=\",Q)\n",
        "print(\"R=\",R)"
      ],
      "metadata": {
        "colab": {
          "base_uri": "https://localhost:8080/"
        },
        "id": "3EJ5eJ2_bx0B",
        "outputId": "3eb7b4d7-52fe-4e97-e520-cf9722ea7d11"
      },
      "execution_count": 6,
      "outputs": [
        {
          "output_type": "stream",
          "name": "stdout",
          "text": [
            "Q= [[-0.26726124  0.87287156]\n",
            " [-0.53452248  0.21821789]\n",
            " [-0.80178373 -0.43643578]]\n",
            "R= [[-3.74165739 -2.67261242]\n",
            " [ 0.          2.61861468]]\n"
          ]
        }
      ]
    },
    {
      "cell_type": "code",
      "source": [
        "Q@R"
      ],
      "metadata": {
        "colab": {
          "base_uri": "https://localhost:8080/"
        },
        "id": "pvK5EiKNT_dr",
        "outputId": "c8d9e69f-9118-4a8e-ee1d-6de43f758424"
      },
      "execution_count": 7,
      "outputs": [
        {
          "output_type": "execute_result",
          "data": {
            "text/plain": [
              "array([[1., 3.],\n",
              "       [2., 2.],\n",
              "       [3., 1.]])"
            ]
          },
          "metadata": {},
          "execution_count": 7
        }
      ]
    },
    {
      "cell_type": "code",
      "source": [
        "Q2 = np.array([[np.sqrt(14)/14,(4*np.sqrt(21))/21],[np.sqrt(14)/7,np.sqrt(21)/21],[(3*np.sqrt(14))/14,(-2*np.sqrt(21))/21]])\n",
        "R2 = np.array([[np.sqrt(14),(5*np.sqrt(14))/7],[0,(4*np.sqrt(21))/7]])\n",
        "Q2@R2"
      ],
      "metadata": {
        "colab": {
          "base_uri": "https://localhost:8080/"
        },
        "id": "vE_AXJEBUCK5",
        "outputId": "efc122fe-1a8c-4719-e381-3152205638ef"
      },
      "execution_count": 8,
      "outputs": [
        {
          "output_type": "execute_result",
          "data": {
            "text/plain": [
              "array([[1., 3.],\n",
              "       [2., 2.],\n",
              "       [3., 1.]])"
            ]
          },
          "metadata": {},
          "execution_count": 8
        }
      ]
    },
    {
      "cell_type": "code",
      "source": [
        "print(\"Q2=\",Q2)\n",
        "print(\"Q=\",Q)\n",
        "print(\"R2=\",R2)\n",
        "print(\"R=\",R)"
      ],
      "metadata": {
        "colab": {
          "base_uri": "https://localhost:8080/"
        },
        "id": "pjPvtX-sU9BU",
        "outputId": "a1e01b0b-dca3-4d27-e595-61e3c5ce1c7d"
      },
      "execution_count": 9,
      "outputs": [
        {
          "output_type": "stream",
          "name": "stdout",
          "text": [
            "Q2= [[ 0.26726124  0.87287156]\n",
            " [ 0.53452248  0.21821789]\n",
            " [ 0.80178373 -0.43643578]]\n",
            "Q= [[-0.26726124  0.87287156]\n",
            " [-0.53452248  0.21821789]\n",
            " [-0.80178373 -0.43643578]]\n",
            "R2= [[3.74165739 2.67261242]\n",
            " [0.         2.61861468]]\n",
            "R= [[-3.74165739 -2.67261242]\n",
            " [ 0.          2.61861468]]\n"
          ]
        }
      ]
    },
    {
      "cell_type": "code",
      "source": [
        "#Notice that in the Python algorithm, the first orthonomal vector is scaled with -1. Starting with an unscaled orthonormal vector would result to\n",
        "Q[:,0] = Q[:,0]*-1\n",
        "print(Q)"
      ],
      "metadata": {
        "colab": {
          "base_uri": "https://localhost:8080/"
        },
        "id": "0S4WWiMQZ7ZZ",
        "outputId": "23f644b6-0efe-4a51-8fb0-da53ddee04e4"
      },
      "execution_count": 10,
      "outputs": [
        {
          "output_type": "stream",
          "name": "stdout",
          "text": [
            "[[ 0.26726124  0.87287156]\n",
            " [ 0.53452248  0.21821789]\n",
            " [ 0.80178373 -0.43643578]]\n"
          ]
        }
      ]
    },
    {
      "cell_type": "code",
      "source": [
        "R = np.transpose(Q)@A_t\n",
        "print(R)"
      ],
      "metadata": {
        "colab": {
          "base_uri": "https://localhost:8080/"
        },
        "id": "S5vChIKgasCO",
        "outputId": "110fc438-364e-4589-8763-83f46123d5ee"
      },
      "execution_count": 11,
      "outputs": [
        {
          "output_type": "stream",
          "name": "stdout",
          "text": [
            "[[3.74165739e+00 2.67261242e+00]\n",
            " [6.66133815e-16 2.61861468e+00]]\n"
          ]
        }
      ]
    },
    {
      "cell_type": "code",
      "source": [
        "Q@R"
      ],
      "metadata": {
        "colab": {
          "base_uri": "https://localhost:8080/"
        },
        "id": "qoz_VPlCa_lx",
        "outputId": "acc4b9ec-1051-4532-af0f-6a271655f3b4"
      },
      "execution_count": 12,
      "outputs": [
        {
          "output_type": "execute_result",
          "data": {
            "text/plain": [
              "array([[1., 3.],\n",
              "       [2., 2.],\n",
              "       [3., 1.]])"
            ]
          },
          "metadata": {},
          "execution_count": 12
        }
      ]
    },
    {
      "cell_type": "markdown",
      "source": [
        "##Problem 6"
      ],
      "metadata": {
        "id": "6piJb3Jd0p_6"
      }
    },
    {
      "cell_type": "markdown",
      "source": [
        "###6.1"
      ],
      "metadata": {
        "id": "Y9JGOtwF1KHr"
      }
    },
    {
      "cell_type": "code",
      "source": [
        "A = np.array([[1,2,3],[3,2,1]])\n",
        "A_t = np.transpose(A)\n",
        "AA_t = A@A_t\n",
        "np.linalg.eig(AA_t)"
      ],
      "metadata": {
        "colab": {
          "base_uri": "https://localhost:8080/"
        },
        "id": "6W6Z9_qL0mXS",
        "outputId": "e63f6bf8-0b05-4fec-a38d-757d9e47c2de"
      },
      "execution_count": 13,
      "outputs": [
        {
          "output_type": "execute_result",
          "data": {
            "text/plain": [
              "EigResult(eigenvalues=array([24.,  4.]), eigenvectors=array([[ 0.70710678, -0.70710678],\n",
              "       [ 0.70710678,  0.70710678]]))"
            ]
          },
          "metadata": {},
          "execution_count": 13
        }
      ]
    },
    {
      "cell_type": "code",
      "source": [
        "X = np.array([[1,1],[1,-1]])\n",
        "X_in = np.linalg.inv(X)\n",
        "Eig_mat = np.array([[24,0],[0,4]])\n",
        "Ans = X@Eig_mat@X_in\n",
        "print(Ans)"
      ],
      "metadata": {
        "colab": {
          "base_uri": "https://localhost:8080/"
        },
        "id": "mHl3TFI71gm5",
        "outputId": "8c69b035-9bde-4792-e5f7-774a336ae1e2"
      },
      "execution_count": 14,
      "outputs": [
        {
          "output_type": "stream",
          "name": "stdout",
          "text": [
            "[[14. 10.]\n",
            " [10. 14.]]\n"
          ]
        }
      ]
    },
    {
      "cell_type": "code",
      "source": [
        "np.linalg.eig"
      ],
      "metadata": {
        "id": "h909Pid2l8gd",
        "colab": {
          "base_uri": "https://localhost:8080/"
        },
        "outputId": "ad007a66-bd22-4b83-e08c-d29f4ef7b8bd"
      },
      "execution_count": 15,
      "outputs": [
        {
          "output_type": "execute_result",
          "data": {
            "text/plain": [
              "<function eig at 0x7b9ced3f26f0>"
            ]
          },
          "metadata": {},
          "execution_count": 15
        }
      ]
    },
    {
      "cell_type": "markdown",
      "source": [
        "###6.2"
      ],
      "metadata": {
        "id": "2CcPMQ2_1M9z"
      }
    },
    {
      "cell_type": "code",
      "source": [
        "A = np.array([[1,2,3],[3,2,1]])\n",
        "A_t = np.transpose(A)\n",
        "AA_t = A@A_t\n",
        "AA_t_in = np.linalg.inv(AA_t)\n",
        "b = np.array([1,1,1])\n",
        "x = AA_t_in@A@b\n",
        "print(x)"
      ],
      "metadata": {
        "colab": {
          "base_uri": "https://localhost:8080/"
        },
        "id": "jIFBQ8qp2I_Q",
        "outputId": "a7f1104e-5aa7-41d1-a2cf-8b685ffb8849"
      },
      "execution_count": 16,
      "outputs": [
        {
          "output_type": "stream",
          "name": "stdout",
          "text": [
            "[0.25 0.25]\n"
          ]
        }
      ]
    }
  ]
}